{
 "cells": [
  {
   "cell_type": "code",
   "execution_count": 4,
   "metadata": {
    "_cell_guid": "b1076dfc-b9ad-4769-8c92-a6c4dae69d19",
    "_uuid": "8f2839f25d086af736a60e9eeb907d3b93b6e0e5",
    "execution": {
     "iopub.execute_input": "2022-02-01T00:43:09.51442Z",
     "iopub.status.busy": "2022-02-01T00:43:09.513638Z",
     "iopub.status.idle": "2022-02-01T00:43:16.308125Z",
     "shell.execute_reply": "2022-02-01T00:43:16.307028Z",
     "shell.execute_reply.started": "2022-02-01T00:43:09.514291Z"
    }
   },
   "outputs": [],
   "source": [
    "import numpy as np # linear algebra\n",
    "import pandas as pd # data processing, CSV file I/O (e.g. pd.read_csv)\n",
    "import matplotlib.pyplot as plt\n",
    "import seaborn as sns\n",
    "import tqdm\n",
    "import gzip\n",
    "import random\n"
   ]
  },
  {
   "cell_type": "code",
   "execution_count": 16,
   "metadata": {
    "execution": {
     "iopub.execute_input": "2022-02-01T00:44:09.360215Z",
     "iopub.status.busy": "2022-02-01T00:44:09.359638Z",
     "iopub.status.idle": "2022-02-01T00:44:41.045278Z",
     "shell.execute_reply": "2022-02-01T00:44:41.04429Z",
     "shell.execute_reply.started": "2022-02-01T00:44:09.360183Z"
    }
   },
   "outputs": [],
   "source": [
    "n = 40428967  #total number of records in the clickstream data \n",
    "sample_size = 1000000\n",
    "skip_values = sorted(random.sample(range(1,n), n-sample_size))\n",
    "#parse_date = lambda val : pd.datetime.strptime(val, '%y%m%d%H')\n",
    "with gzip.open('C:/Users/Akschaya balaji/Downloads/train.gz') as f:\n",
    "    train = pd.read_csv(f,skiprows = skip_values)\n"
   ]
  },
  {
   "cell_type": "code",
   "execution_count": 17,
   "metadata": {
    "execution": {
     "iopub.execute_input": "2022-02-01T00:44:48.235484Z",
     "iopub.status.busy": "2022-02-01T00:44:48.2351Z",
     "iopub.status.idle": "2022-02-01T00:44:48.284673Z",
     "shell.execute_reply": "2022-02-01T00:44:48.283438Z",
     "shell.execute_reply.started": "2022-02-01T00:44:48.235452Z"
    }
   },
   "outputs": [
    {
     "data": {
      "text/html": [
       "<div>\n",
       "<style scoped>\n",
       "    .dataframe tbody tr th:only-of-type {\n",
       "        vertical-align: middle;\n",
       "    }\n",
       "\n",
       "    .dataframe tbody tr th {\n",
       "        vertical-align: top;\n",
       "    }\n",
       "\n",
       "    .dataframe thead th {\n",
       "        text-align: right;\n",
       "    }\n",
       "</style>\n",
       "<table border=\"1\" class=\"dataframe\">\n",
       "  <thead>\n",
       "    <tr style=\"text-align: right;\">\n",
       "      <th></th>\n",
       "      <th>id</th>\n",
       "      <th>click</th>\n",
       "      <th>hour</th>\n",
       "      <th>C1</th>\n",
       "      <th>banner_pos</th>\n",
       "      <th>site_id</th>\n",
       "      <th>site_domain</th>\n",
       "      <th>site_category</th>\n",
       "      <th>app_id</th>\n",
       "      <th>app_domain</th>\n",
       "      <th>...</th>\n",
       "      <th>device_type</th>\n",
       "      <th>device_conn_type</th>\n",
       "      <th>C14</th>\n",
       "      <th>C15</th>\n",
       "      <th>C16</th>\n",
       "      <th>C17</th>\n",
       "      <th>C18</th>\n",
       "      <th>C19</th>\n",
       "      <th>C20</th>\n",
       "      <th>C21</th>\n",
       "    </tr>\n",
       "  </thead>\n",
       "  <tbody>\n",
       "    <tr>\n",
       "      <td>0</td>\n",
       "      <td>10012222478217629851</td>\n",
       "      <td>0</td>\n",
       "      <td>14102100</td>\n",
       "      <td>1005</td>\n",
       "      <td>0</td>\n",
       "      <td>1fbe01fe</td>\n",
       "      <td>f3845767</td>\n",
       "      <td>28905ebd</td>\n",
       "      <td>ecad2386</td>\n",
       "      <td>7801e8d9</td>\n",
       "      <td>...</td>\n",
       "      <td>1</td>\n",
       "      <td>0</td>\n",
       "      <td>15705</td>\n",
       "      <td>320</td>\n",
       "      <td>50</td>\n",
       "      <td>1722</td>\n",
       "      <td>0</td>\n",
       "      <td>35</td>\n",
       "      <td>100084</td>\n",
       "      <td>79</td>\n",
       "    </tr>\n",
       "    <tr>\n",
       "      <td>1</td>\n",
       "      <td>10022511657747302161</td>\n",
       "      <td>0</td>\n",
       "      <td>14102100</td>\n",
       "      <td>1005</td>\n",
       "      <td>0</td>\n",
       "      <td>1fbe01fe</td>\n",
       "      <td>f3845767</td>\n",
       "      <td>28905ebd</td>\n",
       "      <td>ecad2386</td>\n",
       "      <td>7801e8d9</td>\n",
       "      <td>...</td>\n",
       "      <td>1</td>\n",
       "      <td>0</td>\n",
       "      <td>15706</td>\n",
       "      <td>320</td>\n",
       "      <td>50</td>\n",
       "      <td>1722</td>\n",
       "      <td>0</td>\n",
       "      <td>35</td>\n",
       "      <td>100084</td>\n",
       "      <td>79</td>\n",
       "    </tr>\n",
       "    <tr>\n",
       "      <td>2</td>\n",
       "      <td>10029327953743827349</td>\n",
       "      <td>0</td>\n",
       "      <td>14102100</td>\n",
       "      <td>1005</td>\n",
       "      <td>1</td>\n",
       "      <td>72a56356</td>\n",
       "      <td>45368af7</td>\n",
       "      <td>3e814130</td>\n",
       "      <td>ecad2386</td>\n",
       "      <td>7801e8d9</td>\n",
       "      <td>...</td>\n",
       "      <td>1</td>\n",
       "      <td>2</td>\n",
       "      <td>20596</td>\n",
       "      <td>320</td>\n",
       "      <td>50</td>\n",
       "      <td>2161</td>\n",
       "      <td>0</td>\n",
       "      <td>35</td>\n",
       "      <td>-1</td>\n",
       "      <td>157</td>\n",
       "    </tr>\n",
       "    <tr>\n",
       "      <td>3</td>\n",
       "      <td>10031235229753459941</td>\n",
       "      <td>0</td>\n",
       "      <td>14102100</td>\n",
       "      <td>1005</td>\n",
       "      <td>0</td>\n",
       "      <td>1fbe01fe</td>\n",
       "      <td>f3845767</td>\n",
       "      <td>28905ebd</td>\n",
       "      <td>ecad2386</td>\n",
       "      <td>7801e8d9</td>\n",
       "      <td>...</td>\n",
       "      <td>1</td>\n",
       "      <td>0</td>\n",
       "      <td>15699</td>\n",
       "      <td>320</td>\n",
       "      <td>50</td>\n",
       "      <td>1722</td>\n",
       "      <td>0</td>\n",
       "      <td>35</td>\n",
       "      <td>-1</td>\n",
       "      <td>79</td>\n",
       "    </tr>\n",
       "    <tr>\n",
       "      <td>4</td>\n",
       "      <td>10032841083776201932</td>\n",
       "      <td>0</td>\n",
       "      <td>14102100</td>\n",
       "      <td>1005</td>\n",
       "      <td>0</td>\n",
       "      <td>26fa1946</td>\n",
       "      <td>e2a5dc06</td>\n",
       "      <td>3e814130</td>\n",
       "      <td>ecad2386</td>\n",
       "      <td>7801e8d9</td>\n",
       "      <td>...</td>\n",
       "      <td>1</td>\n",
       "      <td>0</td>\n",
       "      <td>20362</td>\n",
       "      <td>320</td>\n",
       "      <td>50</td>\n",
       "      <td>2333</td>\n",
       "      <td>0</td>\n",
       "      <td>39</td>\n",
       "      <td>100188</td>\n",
       "      <td>157</td>\n",
       "    </tr>\n",
       "  </tbody>\n",
       "</table>\n",
       "<p>5 rows × 24 columns</p>\n",
       "</div>"
      ],
      "text/plain": [
       "                     id  click      hour    C1  banner_pos   site_id  \\\n",
       "0  10012222478217629851      0  14102100  1005           0  1fbe01fe   \n",
       "1  10022511657747302161      0  14102100  1005           0  1fbe01fe   \n",
       "2  10029327953743827349      0  14102100  1005           1  72a56356   \n",
       "3  10031235229753459941      0  14102100  1005           0  1fbe01fe   \n",
       "4  10032841083776201932      0  14102100  1005           0  26fa1946   \n",
       "\n",
       "  site_domain site_category    app_id app_domain  ... device_type  \\\n",
       "0    f3845767      28905ebd  ecad2386   7801e8d9  ...           1   \n",
       "1    f3845767      28905ebd  ecad2386   7801e8d9  ...           1   \n",
       "2    45368af7      3e814130  ecad2386   7801e8d9  ...           1   \n",
       "3    f3845767      28905ebd  ecad2386   7801e8d9  ...           1   \n",
       "4    e2a5dc06      3e814130  ecad2386   7801e8d9  ...           1   \n",
       "\n",
       "  device_conn_type    C14  C15  C16   C17  C18  C19     C20  C21  \n",
       "0                0  15705  320   50  1722    0   35  100084   79  \n",
       "1                0  15706  320   50  1722    0   35  100084   79  \n",
       "2                2  20596  320   50  2161    0   35      -1  157  \n",
       "3                0  15699  320   50  1722    0   35      -1   79  \n",
       "4                0  20362  320   50  2333    0   39  100188  157  \n",
       "\n",
       "[5 rows x 24 columns]"
      ]
     },
     "execution_count": 17,
     "metadata": {},
     "output_type": "execute_result"
    }
   ],
   "source": [
    "train.head()"
   ]
  },
  {
   "cell_type": "code",
   "execution_count": 18,
   "metadata": {},
   "outputs": [],
   "source": [
    "test = pd.read_csv('C:/Users/Akschaya balaji/Downloads/test.gz',compression='gzip', nrows =2000000 ,\n",
    "                                 header=0, sep=',', quotechar='\"')"
   ]
  },
  {
   "cell_type": "code",
   "execution_count": 19,
   "metadata": {
    "execution": {
     "iopub.execute_input": "2022-02-01T00:44:59.577934Z",
     "iopub.status.busy": "2022-02-01T00:44:59.577544Z",
     "iopub.status.idle": "2022-02-01T00:44:59.58369Z",
     "shell.execute_reply": "2022-02-01T00:44:59.582801Z",
     "shell.execute_reply.started": "2022-02-01T00:44:59.577902Z"
    }
   },
   "outputs": [
    {
     "data": {
      "text/plain": [
       "((1000000, 24), (2000000, 23))"
      ]
     },
     "execution_count": 19,
     "metadata": {},
     "output_type": "execute_result"
    }
   ],
   "source": [
    "train.shape,test.shape"
   ]
  },
  {
   "cell_type": "code",
   "execution_count": 20,
   "metadata": {
    "execution": {
     "iopub.execute_input": "2022-02-01T00:45:05.300156Z",
     "iopub.status.busy": "2022-02-01T00:45:05.29953Z",
     "iopub.status.idle": "2022-02-01T00:45:15.316041Z",
     "shell.execute_reply": "2022-02-01T00:45:15.314632Z",
     "shell.execute_reply.started": "2022-02-01T00:45:05.300123Z"
    }
   },
   "outputs": [
    {
     "data": {
      "text/plain": [
       "id                  1000000\n",
       "click                     2\n",
       "hour                    240\n",
       "C1                        7\n",
       "banner_pos                7\n",
       "site_id                2641\n",
       "site_domain            2815\n",
       "site_category            21\n",
       "app_id                 3175\n",
       "app_domain              204\n",
       "app_category             26\n",
       "device_id            150291\n",
       "device_ip            555109\n",
       "device_model           5156\n",
       "device_type               5\n",
       "device_conn_type          4\n",
       "C14                    2238\n",
       "C15                       8\n",
       "C16                       9\n",
       "C17                     424\n",
       "C18                       4\n",
       "C19                      66\n",
       "C20                     166\n",
       "C21                      60\n",
       "dtype: int64"
      ]
     },
     "execution_count": 20,
     "metadata": {},
     "output_type": "execute_result"
    }
   ],
   "source": [
    "train.nunique()"
   ]
  },
  {
   "cell_type": "code",
   "execution_count": 12,
   "metadata": {
    "execution": {
     "iopub.execute_input": "2022-02-01T00:45:46.870536Z",
     "iopub.status.busy": "2022-02-01T00:45:46.870114Z",
     "iopub.status.idle": "2022-02-01T00:45:52.053483Z",
     "shell.execute_reply": "2022-02-01T00:45:52.052557Z",
     "shell.execute_reply.started": "2022-02-01T00:45:46.870487Z"
    }
   },
   "outputs": [
    {
     "name": "stdout",
     "output_type": "stream",
     "text": [
      "id                  0.0\n",
      "click               0.0\n",
      "hour                0.0\n",
      "C1                  0.0\n",
      "banner_pos          0.0\n",
      "site_id             0.0\n",
      "site_domain         0.0\n",
      "site_category       0.0\n",
      "app_id              0.0\n",
      "app_domain          0.0\n",
      "app_category        0.0\n",
      "device_id           0.0\n",
      "device_ip           0.0\n",
      "device_model        0.0\n",
      "device_type         0.0\n",
      "device_conn_type    0.0\n",
      "C14                 0.0\n",
      "C15                 0.0\n",
      "C16                 0.0\n",
      "C17                 0.0\n",
      "C18                 0.0\n",
      "C19                 0.0\n",
      "C20                 0.0\n",
      "C21                 0.0\n",
      "dtype: float64\n",
      "id                  0.0\n",
      "hour                0.0\n",
      "C1                  0.0\n",
      "banner_pos          0.0\n",
      "site_id             0.0\n",
      "site_domain         0.0\n",
      "site_category       0.0\n",
      "app_id              0.0\n",
      "app_domain          0.0\n",
      "app_category        0.0\n",
      "device_id           0.0\n",
      "device_ip           0.0\n",
      "device_model        0.0\n",
      "device_type         0.0\n",
      "device_conn_type    0.0\n",
      "C14                 0.0\n",
      "C15                 0.0\n",
      "C16                 0.0\n",
      "C17                 0.0\n",
      "C18                 0.0\n",
      "C19                 0.0\n",
      "C20                 0.0\n",
      "C21                 0.0\n",
      "dtype: float64\n"
     ]
    }
   ],
   "source": [
    "print(train.isnull().sum()/len(train)*100)\n",
    "print(test.isnull().sum()/len(test)*100)"
   ]
  },
  {
   "cell_type": "code",
   "execution_count": 21,
   "metadata": {
    "execution": {
     "iopub.execute_input": "2022-02-01T00:45:58.698523Z",
     "iopub.status.busy": "2022-02-01T00:45:58.698151Z",
     "iopub.status.idle": "2022-02-01T00:45:58.751174Z",
     "shell.execute_reply": "2022-02-01T00:45:58.750088Z",
     "shell.execute_reply.started": "2022-02-01T00:45:58.698474Z"
    }
   },
   "outputs": [
    {
     "data": {
      "text/plain": [
       "0    0.829587\n",
       "1    0.170413\n",
       "Name: click, dtype: float64"
      ]
     },
     "execution_count": 21,
     "metadata": {},
     "output_type": "execute_result"
    }
   ],
   "source": [
    "train.click.value_counts(normalize = True)"
   ]
  },
  {
   "cell_type": "code",
   "execution_count": 22,
   "metadata": {
    "execution": {
     "iopub.execute_input": "2022-02-01T00:46:03.021532Z",
     "iopub.status.busy": "2022-02-01T00:46:03.021144Z",
     "iopub.status.idle": "2022-02-01T00:46:03.034294Z",
     "shell.execute_reply": "2022-02-01T00:46:03.032599Z",
     "shell.execute_reply.started": "2022-02-01T00:46:03.021476Z"
    }
   },
   "outputs": [
    {
     "data": {
      "text/plain": [
       "<Figure size 9600x9600 with 0 Axes>"
      ]
     },
     "execution_count": 22,
     "metadata": {},
     "output_type": "execute_result"
    },
    {
     "data": {
      "text/plain": [
       "<Figure size 9600x9600 with 0 Axes>"
      ]
     },
     "metadata": {},
     "output_type": "display_data"
    }
   ],
   "source": [
    "from matplotlib.pyplot import figure\n",
    "figure(num=None, figsize=(12,12), dpi=800, facecolor='w', edgecolor='k')"
   ]
  },
  {
   "cell_type": "code",
   "execution_count": 23,
   "metadata": {
    "execution": {
     "iopub.execute_input": "2022-02-01T00:46:09.646343Z",
     "iopub.status.busy": "2022-02-01T00:46:09.645985Z",
     "iopub.status.idle": "2022-02-01T00:46:20.091894Z",
     "shell.execute_reply": "2022-02-01T00:46:20.090936Z",
     "shell.execute_reply.started": "2022-02-01T00:46:09.646299Z"
    }
   },
   "outputs": [
    {
     "data": {
      "image/png": "[encoded data removed]",
      "text/plain": [
       "<Figure size 432x288 with 1 Axes>"
      ]
     },
     "metadata": {
      "needs_background": "light"
     },
     "output_type": "display_data"
    }
   ],
   "source": [
    "train.plot(kind='box')\n",
    "plt.show()"
   ]
  },
  {
   "cell_type": "code",
   "execution_count": 24,
   "metadata": {
    "execution": {
     "iopub.execute_input": "2022-02-01T00:46:26.279658Z",
     "iopub.status.busy": "2022-02-01T00:46:26.27928Z",
     "iopub.status.idle": "2022-02-01T00:46:26.796487Z",
     "shell.execute_reply": "2022-02-01T00:46:26.795301Z",
     "shell.execute_reply.started": "2022-02-01T00:46:26.279622Z"
    }
   },
   "outputs": [
    {
     "data": {
      "text/plain": [
       "<matplotlib.axes._subplots.AxesSubplot at 0x2abd1ec5a48>"
      ]
     },
     "execution_count": 24,
     "metadata": {},
     "output_type": "execute_result"
    },
    {
     "data": {
      "image/png": "[encoded data removed]",
      "text/plain": [
       "<Figure size 864x432 with 1 Axes>"
      ]
     },
     "metadata": {
      "needs_background": "light"
     },
     "output_type": "display_data"
    }
   ],
   "source": [
    "train.groupby(['C1', 'click']).size().unstack().plot(kind='bar', figsize=(12,6))"
   ]
  },
  {
   "cell_type": "code",
   "execution_count": 25,
   "metadata": {
    "execution": {
     "iopub.execute_input": "2022-02-01T00:46:32.154778Z",
     "iopub.status.busy": "2022-02-01T00:46:32.154348Z",
     "iopub.status.idle": "2022-02-01T00:46:32.622934Z",
     "shell.execute_reply": "2022-02-01T00:46:32.621947Z",
     "shell.execute_reply.started": "2022-02-01T00:46:32.154744Z"
    }
   },
   "outputs": [
    {
     "data": {
      "text/plain": [
       "<matplotlib.axes._subplots.AxesSubplot at 0x2abc9198a08>"
      ]
     },
     "execution_count": 25,
     "metadata": {},
     "output_type": "execute_result"
    },
    {
     "data": {
      "image/png": "[encoded data removed]",
      "text/plain": [
       "<Figure size 864x432 with 1 Axes>"
      ]
     },
     "metadata": {
      "needs_background": "light"
     },
     "output_type": "display_data"
    }
   ],
   "source": [
    "train.groupby(['device_conn_type', 'click']).size().unstack().plot(kind='bar', figsize=(12,6))"
   ]
  },
  {
   "cell_type": "code",
   "execution_count": 26,
   "metadata": {
    "execution": {
     "iopub.execute_input": "2022-02-01T00:46:37.123061Z",
     "iopub.status.busy": "2022-02-01T00:46:37.122647Z",
     "iopub.status.idle": "2022-02-01T00:46:37.616045Z",
     "shell.execute_reply": "2022-02-01T00:46:37.614985Z",
     "shell.execute_reply.started": "2022-02-01T00:46:37.123022Z"
    }
   },
   "outputs": [
    {
     "data": {
      "text/plain": [
       "<matplotlib.axes._subplots.AxesSubplot at 0x2abd3413c88>"
      ]
     },
     "execution_count": 26,
     "metadata": {},
     "output_type": "execute_result"
    },
    {
     "data": {
      "image/png": "[encoded data removed]",
      "text/plain": [
       "<Figure size 864x432 with 1 Axes>"
      ]
     },
     "metadata": {
      "needs_background": "light"
     },
     "output_type": "display_data"
    }
   ],
   "source": [
    "train.groupby(['banner_pos', 'click']).size().unstack().plot(kind='bar', figsize=(12,6))"
   ]
  },
  {
   "cell_type": "code",
   "execution_count": 27,
   "metadata": {
    "execution": {
     "iopub.execute_input": "2022-02-01T00:46:44.566228Z",
     "iopub.status.busy": "2022-02-01T00:46:44.565815Z",
     "iopub.status.idle": "2022-02-01T00:46:44.753002Z",
     "shell.execute_reply": "2022-02-01T00:46:44.751948Z",
     "shell.execute_reply.started": "2022-02-01T00:46:44.566194Z"
    }
   },
   "outputs": [],
   "source": [
    "from collections import defaultdict\n",
    "from sklearn.preprocessing import LabelEncoder"
   ]
  },
  {
   "cell_type": "code",
   "execution_count": 28,
   "metadata": {
    "execution": {
     "iopub.execute_input": "2022-02-01T00:46:47.939902Z",
     "iopub.status.busy": "2022-02-01T00:46:47.939299Z",
     "iopub.status.idle": "2022-02-01T00:47:18.50576Z",
     "shell.execute_reply": "2022-02-01T00:47:18.504612Z",
     "shell.execute_reply.started": "2022-02-01T00:46:47.93986Z"
    }
   },
   "outputs": [
    {
     "data": {
      "text/html": [
       "<div>\n",
       "<style scoped>\n",
       "    .dataframe tbody tr th:only-of-type {\n",
       "        vertical-align: middle;\n",
       "    }\n",
       "\n",
       "    .dataframe tbody tr th {\n",
       "        vertical-align: top;\n",
       "    }\n",
       "\n",
       "    .dataframe thead th {\n",
       "        text-align: right;\n",
       "    }\n",
       "</style>\n",
       "<table border=\"1\" class=\"dataframe\">\n",
       "  <thead>\n",
       "    <tr style=\"text-align: right;\">\n",
       "      <th></th>\n",
       "      <th>id</th>\n",
       "      <th>click</th>\n",
       "      <th>hour</th>\n",
       "      <th>C1</th>\n",
       "      <th>banner_pos</th>\n",
       "      <th>site_id</th>\n",
       "      <th>site_domain</th>\n",
       "      <th>site_category</th>\n",
       "      <th>app_id</th>\n",
       "      <th>app_domain</th>\n",
       "      <th>...</th>\n",
       "      <th>device_type</th>\n",
       "      <th>device_conn_type</th>\n",
       "      <th>C14</th>\n",
       "      <th>C15</th>\n",
       "      <th>C16</th>\n",
       "      <th>C17</th>\n",
       "      <th>C18</th>\n",
       "      <th>C19</th>\n",
       "      <th>C20</th>\n",
       "      <th>C21</th>\n",
       "    </tr>\n",
       "  </thead>\n",
       "  <tbody>\n",
       "    <tr>\n",
       "      <td>0</td>\n",
       "      <td>542766</td>\n",
       "      <td>0</td>\n",
       "      <td>0</td>\n",
       "      <td>2</td>\n",
       "      <td>0</td>\n",
       "      <td>315</td>\n",
       "      <td>2685</td>\n",
       "      <td>2</td>\n",
       "      <td>2935</td>\n",
       "      <td>92</td>\n",
       "      <td>...</td>\n",
       "      <td>1</td>\n",
       "      <td>0</td>\n",
       "      <td>241</td>\n",
       "      <td>3</td>\n",
       "      <td>2</td>\n",
       "      <td>54</td>\n",
       "      <td>0</td>\n",
       "      <td>2</td>\n",
       "      <td>63</td>\n",
       "      <td>22</td>\n",
       "    </tr>\n",
       "    <tr>\n",
       "      <td>1</td>\n",
       "      <td>543356</td>\n",
       "      <td>0</td>\n",
       "      <td>0</td>\n",
       "      <td>2</td>\n",
       "      <td>0</td>\n",
       "      <td>315</td>\n",
       "      <td>2685</td>\n",
       "      <td>2</td>\n",
       "      <td>2935</td>\n",
       "      <td>92</td>\n",
       "      <td>...</td>\n",
       "      <td>1</td>\n",
       "      <td>0</td>\n",
       "      <td>242</td>\n",
       "      <td>3</td>\n",
       "      <td>2</td>\n",
       "      <td>54</td>\n",
       "      <td>0</td>\n",
       "      <td>2</td>\n",
       "      <td>63</td>\n",
       "      <td>22</td>\n",
       "    </tr>\n",
       "    <tr>\n",
       "      <td>2</td>\n",
       "      <td>543706</td>\n",
       "      <td>0</td>\n",
       "      <td>0</td>\n",
       "      <td>2</td>\n",
       "      <td>1</td>\n",
       "      <td>1198</td>\n",
       "      <td>790</td>\n",
       "      <td>4</td>\n",
       "      <td>2935</td>\n",
       "      <td>92</td>\n",
       "      <td>...</td>\n",
       "      <td>1</td>\n",
       "      <td>1</td>\n",
       "      <td>660</td>\n",
       "      <td>3</td>\n",
       "      <td>2</td>\n",
       "      <td>105</td>\n",
       "      <td>0</td>\n",
       "      <td>2</td>\n",
       "      <td>0</td>\n",
       "      <td>42</td>\n",
       "    </tr>\n",
       "    <tr>\n",
       "      <td>3</td>\n",
       "      <td>543804</td>\n",
       "      <td>0</td>\n",
       "      <td>0</td>\n",
       "      <td>2</td>\n",
       "      <td>0</td>\n",
       "      <td>315</td>\n",
       "      <td>2685</td>\n",
       "      <td>2</td>\n",
       "      <td>2935</td>\n",
       "      <td>92</td>\n",
       "      <td>...</td>\n",
       "      <td>1</td>\n",
       "      <td>0</td>\n",
       "      <td>235</td>\n",
       "      <td>3</td>\n",
       "      <td>2</td>\n",
       "      <td>54</td>\n",
       "      <td>0</td>\n",
       "      <td>2</td>\n",
       "      <td>0</td>\n",
       "      <td>22</td>\n",
       "    </tr>\n",
       "    <tr>\n",
       "      <td>4</td>\n",
       "      <td>543895</td>\n",
       "      <td>0</td>\n",
       "      <td>0</td>\n",
       "      <td>2</td>\n",
       "      <td>0</td>\n",
       "      <td>383</td>\n",
       "      <td>2516</td>\n",
       "      <td>4</td>\n",
       "      <td>2935</td>\n",
       "      <td>92</td>\n",
       "      <td>...</td>\n",
       "      <td>1</td>\n",
       "      <td>0</td>\n",
       "      <td>629</td>\n",
       "      <td>3</td>\n",
       "      <td>2</td>\n",
       "      <td>147</td>\n",
       "      <td>0</td>\n",
       "      <td>4</td>\n",
       "      <td>138</td>\n",
       "      <td>42</td>\n",
       "    </tr>\n",
       "  </tbody>\n",
       "</table>\n",
       "<p>5 rows × 24 columns</p>\n",
       "</div>"
      ],
      "text/plain": [
       "       id  click  hour  C1  banner_pos  site_id  site_domain  site_category  \\\n",
       "0  542766      0     0   2           0      315         2685              2   \n",
       "1  543356      0     0   2           0      315         2685              2   \n",
       "2  543706      0     0   2           1     1198          790              4   \n",
       "3  543804      0     0   2           0      315         2685              2   \n",
       "4  543895      0     0   2           0      383         2516              4   \n",
       "\n",
       "   app_id  app_domain  ...  device_type  device_conn_type  C14  C15  C16  C17  \\\n",
       "0    2935          92  ...            1                 0  241    3    2   54   \n",
       "1    2935          92  ...            1                 0  242    3    2   54   \n",
       "2    2935          92  ...            1                 1  660    3    2  105   \n",
       "3    2935          92  ...            1                 0  235    3    2   54   \n",
       "4    2935          92  ...            1                 0  629    3    2  147   \n",
       "\n",
       "   C18  C19  C20  C21  \n",
       "0    0    2   63   22  \n",
       "1    0    2   63   22  \n",
       "2    0    2    0   42  \n",
       "3    0    2    0   22  \n",
       "4    0    4  138   42  \n",
       "\n",
       "[5 rows x 24 columns]"
      ]
     },
     "execution_count": 28,
     "metadata": {},
     "output_type": "execute_result"
    }
   ],
   "source": [
    "leb = defaultdict(LabelEncoder)\n",
    "train = train.apply(lambda x: leb[x.name].fit_transform(x))\n",
    "train.head()"
   ]
  },
  {
   "cell_type": "code",
   "execution_count": 29,
   "metadata": {
    "execution": {
     "iopub.execute_input": "2022-02-01T00:47:40.436826Z",
     "iopub.status.busy": "2022-02-01T00:47:40.436406Z",
     "iopub.status.idle": "2022-02-01T00:47:52.830725Z",
     "shell.execute_reply": "2022-02-01T00:47:52.829588Z",
     "shell.execute_reply.started": "2022-02-01T00:47:40.436793Z"
    }
   },
   "outputs": [
    {
     "data": {
      "text/html": [
       "<div>\n",
       "<style scoped>\n",
       "    .dataframe tbody tr th:only-of-type {\n",
       "        vertical-align: middle;\n",
       "    }\n",
       "\n",
       "    .dataframe tbody tr th {\n",
       "        vertical-align: top;\n",
       "    }\n",
       "\n",
       "    .dataframe thead th {\n",
       "        text-align: right;\n",
       "    }\n",
       "</style>\n",
       "<table border=\"1\" class=\"dataframe\">\n",
       "  <thead>\n",
       "    <tr style=\"text-align: right;\">\n",
       "      <th></th>\n",
       "      <th>id</th>\n",
       "      <th>hour</th>\n",
       "      <th>C1</th>\n",
       "      <th>banner_pos</th>\n",
       "      <th>site_id</th>\n",
       "      <th>site_domain</th>\n",
       "      <th>site_category</th>\n",
       "      <th>app_id</th>\n",
       "      <th>app_domain</th>\n",
       "      <th>app_category</th>\n",
       "      <th>...</th>\n",
       "      <th>device_type</th>\n",
       "      <th>device_conn_type</th>\n",
       "      <th>C14</th>\n",
       "      <th>C15</th>\n",
       "      <th>C16</th>\n",
       "      <th>C17</th>\n",
       "      <th>C18</th>\n",
       "      <th>C19</th>\n",
       "      <th>C20</th>\n",
       "      <th>C21</th>\n",
       "    </tr>\n",
       "  </thead>\n",
       "  <tbody>\n",
       "    <tr>\n",
       "      <td>0</td>\n",
       "      <td>1081870</td>\n",
       "      <td>0</td>\n",
       "      <td>2</td>\n",
       "      <td>0</td>\n",
       "      <td>335</td>\n",
       "      <td>2545</td>\n",
       "      <td>20</td>\n",
       "      <td>2383</td>\n",
       "      <td>54</td>\n",
       "      <td>0</td>\n",
       "      <td>...</td>\n",
       "      <td>1</td>\n",
       "      <td>0</td>\n",
       "      <td>29</td>\n",
       "      <td>3</td>\n",
       "      <td>2</td>\n",
       "      <td>9</td>\n",
       "      <td>3</td>\n",
       "      <td>11</td>\n",
       "      <td>51</td>\n",
       "      <td>4</td>\n",
       "    </tr>\n",
       "    <tr>\n",
       "      <td>1</td>\n",
       "      <td>1081872</td>\n",
       "      <td>0</td>\n",
       "      <td>2</td>\n",
       "      <td>0</td>\n",
       "      <td>299</td>\n",
       "      <td>2516</td>\n",
       "      <td>1</td>\n",
       "      <td>2383</td>\n",
       "      <td>54</td>\n",
       "      <td>0</td>\n",
       "      <td>...</td>\n",
       "      <td>1</td>\n",
       "      <td>0</td>\n",
       "      <td>547</td>\n",
       "      <td>3</td>\n",
       "      <td>2</td>\n",
       "      <td>131</td>\n",
       "      <td>0</td>\n",
       "      <td>1</td>\n",
       "      <td>57</td>\n",
       "      <td>10</td>\n",
       "    </tr>\n",
       "    <tr>\n",
       "      <td>2</td>\n",
       "      <td>1081908</td>\n",
       "      <td>0</td>\n",
       "      <td>2</td>\n",
       "      <td>0</td>\n",
       "      <td>299</td>\n",
       "      <td>2516</td>\n",
       "      <td>1</td>\n",
       "      <td>2383</td>\n",
       "      <td>54</td>\n",
       "      <td>0</td>\n",
       "      <td>...</td>\n",
       "      <td>1</td>\n",
       "      <td>0</td>\n",
       "      <td>547</td>\n",
       "      <td>3</td>\n",
       "      <td>2</td>\n",
       "      <td>131</td>\n",
       "      <td>0</td>\n",
       "      <td>1</td>\n",
       "      <td>57</td>\n",
       "      <td>10</td>\n",
       "    </tr>\n",
       "    <tr>\n",
       "      <td>3</td>\n",
       "      <td>1081985</td>\n",
       "      <td>0</td>\n",
       "      <td>2</td>\n",
       "      <td>0</td>\n",
       "      <td>1249</td>\n",
       "      <td>2033</td>\n",
       "      <td>5</td>\n",
       "      <td>806</td>\n",
       "      <td>78</td>\n",
       "      <td>2</td>\n",
       "      <td>...</td>\n",
       "      <td>1</td>\n",
       "      <td>0</td>\n",
       "      <td>201</td>\n",
       "      <td>3</td>\n",
       "      <td>2</td>\n",
       "      <td>18</td>\n",
       "      <td>3</td>\n",
       "      <td>28</td>\n",
       "      <td>109</td>\n",
       "      <td>12</td>\n",
       "    </tr>\n",
       "    <tr>\n",
       "      <td>4</td>\n",
       "      <td>1082009</td>\n",
       "      <td>0</td>\n",
       "      <td>2</td>\n",
       "      <td>0</td>\n",
       "      <td>1249</td>\n",
       "      <td>2033</td>\n",
       "      <td>5</td>\n",
       "      <td>1584</td>\n",
       "      <td>15</td>\n",
       "      <td>24</td>\n",
       "      <td>...</td>\n",
       "      <td>1</td>\n",
       "      <td>0</td>\n",
       "      <td>704</td>\n",
       "      <td>3</td>\n",
       "      <td>2</td>\n",
       "      <td>152</td>\n",
       "      <td>0</td>\n",
       "      <td>5</td>\n",
       "      <td>0</td>\n",
       "      <td>30</td>\n",
       "    </tr>\n",
       "  </tbody>\n",
       "</table>\n",
       "<p>5 rows × 23 columns</p>\n",
       "</div>"
      ],
      "text/plain": [
       "        id  hour  C1  banner_pos  site_id  site_domain  site_category  app_id  \\\n",
       "0  1081870     0   2           0      335         2545             20    2383   \n",
       "1  1081872     0   2           0      299         2516              1    2383   \n",
       "2  1081908     0   2           0      299         2516              1    2383   \n",
       "3  1081985     0   2           0     1249         2033              5     806   \n",
       "4  1082009     0   2           0     1249         2033              5    1584   \n",
       "\n",
       "   app_domain  app_category  ...  device_type  device_conn_type  C14  C15  \\\n",
       "0          54             0  ...            1                 0   29    3   \n",
       "1          54             0  ...            1                 0  547    3   \n",
       "2          54             0  ...            1                 0  547    3   \n",
       "3          78             2  ...            1                 0  201    3   \n",
       "4          15            24  ...            1                 0  704    3   \n",
       "\n",
       "   C16  C17  C18  C19  C20  C21  \n",
       "0    2    9    3   11   51    4  \n",
       "1    2  131    0    1   57   10  \n",
       "2    2  131    0    1   57   10  \n",
       "3    2   18    3   28  109   12  \n",
       "4    2  152    0    5    0   30  \n",
       "\n",
       "[5 rows x 23 columns]"
      ]
     },
     "execution_count": 29,
     "metadata": {},
     "output_type": "execute_result"
    }
   ],
   "source": [
    "test = test.apply(lambda x: leb[x.name].fit_transform(x))\n",
    "test.head()"
   ]
  },
  {
   "cell_type": "code",
   "execution_count": 30,
   "metadata": {
    "execution": {
     "iopub.execute_input": "2022-02-01T00:48:04.502857Z",
     "iopub.status.busy": "2022-02-01T00:48:04.502423Z",
     "iopub.status.idle": "2022-02-01T00:48:04.831875Z",
     "shell.execute_reply": "2022-02-01T00:48:04.830788Z",
     "shell.execute_reply.started": "2022-02-01T00:48:04.502825Z"
    }
   },
   "outputs": [],
   "source": [
    "X= train.drop(\"click\", axis=1)\n",
    "\n",
    "y= train.click"
   ]
  },
  {
   "cell_type": "code",
   "execution_count": 31,
   "metadata": {
    "execution": {
     "iopub.execute_input": "2022-02-01T00:48:07.946592Z",
     "iopub.status.busy": "2022-02-01T00:48:07.946196Z",
     "iopub.status.idle": "2022-02-01T00:48:07.950917Z",
     "shell.execute_reply": "2022-02-01T00:48:07.950003Z",
     "shell.execute_reply.started": "2022-02-01T00:48:07.946558Z"
    }
   },
   "outputs": [],
   "source": [
    "from sklearn import preprocessing\n",
    "from sklearn.preprocessing import StandardScaler"
   ]
  },
  {
   "cell_type": "code",
   "execution_count": 32,
   "metadata": {
    "execution": {
     "iopub.execute_input": "2022-02-01T00:48:18.116902Z",
     "iopub.status.busy": "2022-02-01T00:48:18.116483Z",
     "iopub.status.idle": "2022-02-01T00:48:21.168735Z",
     "shell.execute_reply": "2022-02-01T00:48:21.167715Z",
     "shell.execute_reply.started": "2022-02-01T00:48:18.116864Z"
    }
   },
   "outputs": [
    {
     "data": {
      "text/plain": [
       "1000000"
      ]
     },
     "execution_count": 32,
     "metadata": {},
     "output_type": "execute_result"
    }
   ],
   "source": [
    "scaler = StandardScaler()\n",
    "scaler.fit(X)\n",
    "X = scaler.transform(X)\n",
    "len(X)"
   ]
  },
  {
   "cell_type": "code",
   "execution_count": 33,
   "metadata": {
    "execution": {
     "iopub.execute_input": "2022-02-01T00:48:40.443228Z",
     "iopub.status.busy": "2022-02-01T00:48:40.442787Z",
     "iopub.status.idle": "2022-02-01T00:48:40.765165Z",
     "shell.execute_reply": "2022-02-01T00:48:40.764221Z",
     "shell.execute_reply.started": "2022-02-01T00:48:40.443194Z"
    }
   },
   "outputs": [
    {
     "data": {
      "text/plain": [
       "2000000"
      ]
     },
     "execution_count": 33,
     "metadata": {},
     "output_type": "execute_result"
    }
   ],
   "source": [
    "test = scaler.transform(test)\n",
    "len(test)"
   ]
  },
  {
   "cell_type": "code",
   "execution_count": 34,
   "metadata": {
    "execution": {
     "iopub.execute_input": "2022-02-01T00:48:47.088501Z",
     "iopub.status.busy": "2022-02-01T00:48:47.088084Z",
     "iopub.status.idle": "2022-02-01T00:48:49.044335Z",
     "shell.execute_reply": "2022-02-01T00:48:49.043272Z",
     "shell.execute_reply.started": "2022-02-01T00:48:47.088465Z"
    }
   },
   "outputs": [],
   "source": [
    "from sklearn.model_selection import train_test_split\n",
    "X_train, X_cv, y_train, y_cv = train_test_split(X, y, test_size=0.15, random_state=42)"
   ]
  },
  {
   "cell_type": "code",
   "execution_count": 35,
   "metadata": {
    "execution": {
     "iopub.execute_input": "2022-02-01T00:48:51.443781Z",
     "iopub.status.busy": "2022-02-01T00:48:51.443248Z",
     "iopub.status.idle": "2022-02-01T00:48:51.721828Z",
     "shell.execute_reply": "2022-02-01T00:48:51.720625Z",
     "shell.execute_reply.started": "2022-02-01T00:48:51.443736Z"
    }
   },
   "outputs": [],
   "source": [
    "from sklearn.linear_model import LogisticRegression"
   ]
  },
  {
   "cell_type": "code",
   "execution_count": 36,
   "metadata": {
    "execution": {
     "iopub.execute_input": "2022-02-01T00:48:57.815745Z",
     "iopub.status.busy": "2022-02-01T00:48:57.815111Z",
     "iopub.status.idle": "2022-02-01T00:49:13.464004Z",
     "shell.execute_reply": "2022-02-01T00:49:13.46307Z",
     "shell.execute_reply.started": "2022-02-01T00:48:57.815697Z"
    }
   },
   "outputs": [
    {
     "name": "stderr",
     "output_type": "stream",
     "text": [
      "C:\\Users\\Akschaya balaji\\Anaconda3\\lib\\site-packages\\sklearn\\linear_model\\logistic.py:432: FutureWarning: Default solver will be changed to 'lbfgs' in 0.22. Specify a solver to silence this warning.\n",
      "  FutureWarning)\n"
     ]
    },
    {
     "data": {
      "text/plain": [
       "LogisticRegression(C=1.0, class_weight=None, dual=False, fit_intercept=True,\n",
       "                   intercept_scaling=1, l1_ratio=None, max_iter=100,\n",
       "                   multi_class='warn', n_jobs=None, penalty='l2',\n",
       "                   random_state=None, solver='warn', tol=0.0001, verbose=0,\n",
       "                   warm_start=False)"
      ]
     },
     "execution_count": 36,
     "metadata": {},
     "output_type": "execute_result"
    }
   ],
   "source": [
    "clf = LogisticRegression()\n",
    "clf.fit(X_train,y_train)"
   ]
  },
  {
   "cell_type": "code",
   "execution_count": 37,
   "metadata": {
    "execution": {
     "iopub.execute_input": "2022-02-01T00:50:03.434032Z",
     "iopub.status.busy": "2022-02-01T00:50:03.433303Z",
     "iopub.status.idle": "2022-02-01T00:50:03.473799Z",
     "shell.execute_reply": "2022-02-01T00:50:03.472688Z",
     "shell.execute_reply.started": "2022-02-01T00:50:03.433999Z"
    }
   },
   "outputs": [],
   "source": [
    "lRpredict = clf.predict(X_cv)"
   ]
  },
  {
   "cell_type": "code",
   "execution_count": 38,
   "metadata": {
    "execution": {
     "iopub.execute_input": "2022-02-01T00:54:09.770357Z",
     "iopub.status.busy": "2022-02-01T00:54:09.769676Z",
     "iopub.status.idle": "2022-02-01T00:54:09.886111Z",
     "shell.execute_reply": "2022-02-01T00:54:09.884951Z",
     "shell.execute_reply.started": "2022-02-01T00:54:09.770323Z"
    }
   },
   "outputs": [],
   "source": [
    "lRpredict_test = clf.predict(test)"
   ]
  },
  {
   "cell_type": "code",
   "execution_count": 39,
   "metadata": {
    "execution": {
     "iopub.execute_input": "2022-02-01T00:54:31.019835Z",
     "iopub.status.busy": "2022-02-01T00:54:31.019425Z",
     "iopub.status.idle": "2022-02-01T00:54:31.026458Z",
     "shell.execute_reply": "2022-02-01T00:54:31.025609Z",
     "shell.execute_reply.started": "2022-02-01T00:54:31.019802Z"
    }
   },
   "outputs": [
    {
     "data": {
      "text/plain": [
       "array([0, 0, 0, ..., 0, 0, 0], dtype=int64)"
      ]
     },
     "execution_count": 39,
     "metadata": {},
     "output_type": "execute_result"
    }
   ],
   "source": [
    "lRpredict_test"
   ]
  },
  {
   "cell_type": "code",
   "execution_count": 40,
   "metadata": {
    "execution": {
     "iopub.execute_input": "2022-02-01T00:50:18.770279Z",
     "iopub.status.busy": "2022-02-01T00:50:18.76989Z",
     "iopub.status.idle": "2022-02-01T00:50:18.823339Z",
     "shell.execute_reply": "2022-02-01T00:50:18.82216Z",
     "shell.execute_reply.started": "2022-02-01T00:50:18.770245Z"
    }
   },
   "outputs": [],
   "source": [
    "lRpredict1 = clf.predict_proba(X_cv)"
   ]
  },
  {
   "cell_type": "code",
   "execution_count": 41,
   "metadata": {
    "execution": {
     "iopub.execute_input": "2022-02-01T00:53:12.908527Z",
     "iopub.status.busy": "2022-02-01T00:53:12.907946Z",
     "iopub.status.idle": "2022-02-01T00:53:20.262991Z",
     "shell.execute_reply": "2022-02-01T00:53:20.261993Z",
     "shell.execute_reply.started": "2022-02-01T00:53:12.90848Z"
    }
   },
   "outputs": [],
   "source": [
    "test1 = pd.read_csv('C:/Users/Akschaya balaji/Downloads/test.gz',compression='gzip', nrows =2000000 ,\n",
    "                                 header=0, sep=',', quotechar='\"')"
   ]
  },
  {
   "cell_type": "code",
   "execution_count": 42,
   "metadata": {
    "execution": {
     "iopub.execute_input": "2022-02-01T00:50:07.49612Z",
     "iopub.status.busy": "2022-02-01T00:50:07.495727Z",
     "iopub.status.idle": "2022-02-01T00:50:07.548192Z",
     "shell.execute_reply": "2022-02-01T00:50:07.54729Z",
     "shell.execute_reply.started": "2022-02-01T00:50:07.49605Z"
    }
   },
   "outputs": [
    {
     "name": "stdout",
     "output_type": "stream",
     "text": [
      "0.82924\n"
     ]
    }
   ],
   "source": [
    "from sklearn.metrics import accuracy_score, confusion_matrix, classification_report\n",
    "print(accuracy_score(y_cv,lRpredict))"
   ]
  },
  {
   "cell_type": "code",
   "execution_count": 43,
   "metadata": {
    "execution": {
     "iopub.execute_input": "2022-02-01T00:50:10.295624Z",
     "iopub.status.busy": "2022-02-01T00:50:10.294954Z",
     "iopub.status.idle": "2022-02-01T00:50:11.194686Z",
     "shell.execute_reply": "2022-02-01T00:50:11.193535Z",
     "shell.execute_reply.started": "2022-02-01T00:50:10.295589Z"
    }
   },
   "outputs": [
    {
     "data": {
      "text/plain": [
       "array([[124339,     93],\n",
       "       [ 25521,     47]], dtype=int64)"
      ]
     },
     "execution_count": 43,
     "metadata": {},
     "output_type": "execute_result"
    }
   ],
   "source": [
    "confusion_matrix(y_cv,lRpredict)"
   ]
  },
  {
   "cell_type": "code",
   "execution_count": 44,
   "metadata": {
    "execution": {
     "iopub.execute_input": "2022-02-01T00:50:24.704689Z",
     "iopub.status.busy": "2022-02-01T00:50:24.704313Z",
     "iopub.status.idle": "2022-02-01T00:50:25.577569Z",
     "shell.execute_reply": "2022-02-01T00:50:25.576571Z",
     "shell.execute_reply.started": "2022-02-01T00:50:24.704657Z"
    }
   },
   "outputs": [
    {
     "name": "stdout",
     "output_type": "stream",
     "text": [
      "              precision    recall  f1-score   support\n",
      "\n",
      "           0       0.83      1.00      0.91    124432\n",
      "           1       0.34      0.00      0.00     25568\n",
      "\n",
      "    accuracy                           0.83    150000\n",
      "   macro avg       0.58      0.50      0.46    150000\n",
      "weighted avg       0.75      0.83      0.75    150000\n",
      "\n"
     ]
    }
   ],
   "source": [
    "print(classification_report(y_cv,lRpredict))"
   ]
  },
  {
   "cell_type": "code",
   "execution_count": 45,
   "metadata": {
    "execution": {
     "iopub.execute_input": "2022-02-01T00:54:40.299905Z",
     "iopub.status.busy": "2022-02-01T00:54:40.299493Z",
     "iopub.status.idle": "2022-02-01T00:54:47.30387Z",
     "shell.execute_reply": "2022-02-01T00:54:47.302579Z",
     "shell.execute_reply.started": "2022-02-01T00:54:40.299873Z"
    }
   },
   "outputs": [
    {
     "name": "stdout",
     "output_type": "stream",
     "text": [
      "                   id  click\n",
      "0        1.000017e+19      0\n",
      "1        1.000018e+19      0\n",
      "2        1.000055e+19      0\n",
      "3        1.000109e+19      0\n",
      "4        1.000138e+19      0\n",
      "...               ...    ...\n",
      "1999995  1.029082e+19      0\n",
      "1999996  1.029082e+19      0\n",
      "1999997  1.029083e+19      0\n",
      "1999998  1.029083e+19      0\n",
      "1999999  1.029084e+19      0\n",
      "\n",
      "[2000000 rows x 2 columns]\n"
     ]
    }
   ],
   "source": [
    "submission = pd.DataFrame({\n",
    "        \"id\": test1['id'],\n",
    "        \"click\": lRpredict_test\n",
    "    })\n",
    "submission.to_csv('click.csv', index=False)\n",
    "print(submission)"
   ]
  }
 ],
 "metadata": {
  "kernelspec": {
   "display_name": "Python 3",
   "language": "python",
   "name": "python3"
  },
  "language_info": {
   "codemirror_mode": {
    "name": "ipython",
    "version": 3
   },
   "file_extension": ".py",
   "mimetype": "text/x-python",
   "name": "python",
   "nbconvert_exporter": "python",
   "pygments_lexer": "ipython3",
   "version": "3.7.4"
  }
 },
 "nbformat": 4,
 "nbformat_minor": 4
}
